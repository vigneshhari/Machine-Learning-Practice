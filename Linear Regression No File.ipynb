{
 "cells": [
  {
   "cell_type": "markdown",
   "metadata": {},
   "source": [
    "Learning Linear Regression with Tensorflow\n",
    "======================\n",
    "with Each step explained in detail\n"
   ]
  },
  {
   "cell_type": "code",
   "execution_count": 1,
   "metadata": {
    "collapsed": true
   },
   "outputs": [],
   "source": [
    "import tensorflow as tf\n",
    "import numpy as np\n",
    "tf.set_random_seed(777)"
   ]
  },
  {
   "cell_type": "markdown",
   "metadata": {},
   "source": [
    "Random Seed is used to reproduce same random values for debugging and testing "
   ]
  },
  {
   "cell_type": "code",
   "execution_count": 2,
   "metadata": {
    "collapsed": true
   },
   "outputs": [],
   "source": [
    "x_data = [[73., 80., 75.],\n",
    "          [93., 88., 93.],\n",
    "          [89., 91., 90.],\n",
    "          [96., 98., 100.],\n",
    "          [73., 66., 70.]]\n",
    "y_data = [[152.],\n",
    "          [185.],\n",
    "          [180.],\n",
    "          [196.],\n",
    "          [142.]]"
   ]
  },
  {
   "cell_type": "code",
   "execution_count": 3,
   "metadata": {
    "collapsed": true
   },
   "outputs": [],
   "source": [
    "\n",
    "#X = tf.placeholder(tf.float32 , shape = [None , 3])\n",
    "#Y = tf.placeholder(tf.float32 , shape = [None , 1] )\n",
    "\n",
    "X = tf.constant(x_data,tf.float32)\n",
    "Y = tf.constant(y_data ,tf.float32)\n",
    "\n",
    "W = tf.Variable(tf.random_normal([3, 1]), name='weight')\n",
    "b = tf.Variable(tf.random_normal([1]), name='bias')"
   ]
  },
  {
   "cell_type": "code",
   "execution_count": 4,
   "metadata": {
    "collapsed": true
   },
   "outputs": [],
   "source": [
    "hypothesis = tf.matmul(X, W) + b"
   ]
  },
  {
   "cell_type": "code",
   "execution_count": 5,
   "metadata": {
    "collapsed": true
   },
   "outputs": [],
   "source": [
    "cost = tf.reduce_mean(tf.pow(hypothesis - Y , 2) ) "
   ]
  },
  {
   "cell_type": "code",
   "execution_count": 6,
   "metadata": {
    "collapsed": true
   },
   "outputs": [],
   "source": [
    "# Minimize\n",
    "optimizer = tf.train.GradientDescentOptimizer(learning_rate=3e-5)\n",
    "train = optimizer.minimize(cost)"
   ]
  },
  {
   "cell_type": "code",
   "execution_count": 7,
   "metadata": {},
   "outputs": [
    {
     "name": "stdout",
     "output_type": "stream",
     "text": [
      "0 Cost:  22656.0\n",
      "100 Cost:  5.26109\n",
      "200 Cost:  4.75195\n",
      "300 Cost:  4.31547\n",
      "400 Cost:  3.94086\n",
      "500 Cost:  3.61889\n",
      "600 Cost:  3.34168\n",
      "700 Cost:  3.10257\n",
      "800 Cost:  2.89593\n",
      "900 Cost:  2.71687\n",
      "1000 Cost:  2.56136\n",
      "1100 Cost:  2.42587\n",
      "1200 Cost:  2.30749\n",
      "1300 Cost:  2.20363\n",
      "1400 Cost:  2.11225\n",
      "1500 Cost:  2.03143\n",
      "1600 Cost:  1.95968\n",
      "1700 Cost:  1.89566\n",
      "1800 Cost:  1.83826\n",
      "1900 Cost:  1.78656\n",
      "2000 Cost:  1.73969\n",
      "1.73969\n"
     ]
    }
   ],
   "source": [
    "sess = tf.Session()\n",
    "sess.run(tf.global_variables_initializer())\n",
    "\n",
    "for step in range(2001):\n",
    "    cost_val, hy_val, _ = sess.run([cost, hypothesis, train], \n",
    "                                   #feed_dict={X: x_data, Y: y_data}\n",
    "                                  )\n",
    "    if step % 100 == 0:\n",
    "        print(step, \"Cost: \", cost_val)\n",
    "print(cost_val)\n",
    "tf.summary.FileWriter(\"logs\", sess.graph).close()\n"
   ]
  },
  {
   "cell_type": "code",
   "execution_count": null,
   "metadata": {
    "collapsed": true
   },
   "outputs": [],
   "source": []
  },
  {
   "cell_type": "code",
   "execution_count": null,
   "metadata": {
    "collapsed": true
   },
   "outputs": [],
   "source": []
  }
 ],
 "metadata": {
  "kernelspec": {
   "display_name": "Python 3",
   "language": "python",
   "name": "python3"
  },
  "language_info": {
   "codemirror_mode": {
    "name": "ipython",
    "version": 3
   },
   "file_extension": ".py",
   "mimetype": "text/x-python",
   "name": "python",
   "nbconvert_exporter": "python",
   "pygments_lexer": "ipython3",
   "version": "3.5.2"
  }
 },
 "nbformat": 4,
 "nbformat_minor": 2
}
