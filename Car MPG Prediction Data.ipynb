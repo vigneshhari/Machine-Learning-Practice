{
 "cells": [
  {
   "cell_type": "markdown",
   "metadata": {},
   "source": [
    "Dataset Details\n",
    "---\n",
    "\n",
    "1. Title: Auto-Mpg Data\n",
    "\n",
    "2. Sources:\n",
    "   (a) Origin:  This dataset was taken from the StatLib library which is\n",
    "                maintained at Carnegie Mellon University. The dataset was \n",
    "                used in the 1983 American Statistical Association Exposition.\n",
    "   (c) Date: July 7, 1993\n",
    "\n",
    "3. Past Usage:\n",
    "    -  See 2b (above)\n",
    "    -  Quinlan,R. (1993). Combining Instance-Based and Model-Based Learning.\n",
    "       In Proceedings on the Tenth International Conference of Machine \n",
    "       Learning, 236-243, University of Massachusetts, Amherst. Morgan\n",
    "       Kaufmann.\n",
    "\n",
    "4. Relevant Information:\n",
    "\n",
    "   This dataset is a slightly modified version of the dataset provided in\n",
    "   the StatLib library.  In line with the use by Ross Quinlan (1993) in\n",
    "   predicting the attribute \"mpg\", 8 of the original instances were removed \n",
    "   because they had unknown values for the \"mpg\" attribute.  The original \n",
    "   dataset is available in the file \"auto-mpg.data-original\".\n",
    "\n",
    "   \"The data concerns city-cycle fuel consumption in miles per gallon,\n",
    "    to be predicted in terms of 3 multivalued discrete and 5 continuous\n",
    "    attributes.\" (Quinlan, 1993)"
   ]
  },
  {
   "cell_type": "code",
   "execution_count": 199,
   "metadata": {
    "collapsed": true
   },
   "outputs": [],
   "source": [
    "import matplotlib.pyplot as plt\n",
    "import numpy as np\n",
    "import tensorflow as tf\n",
    "%matplotlib inline\n",
    "#Author Vignesh ( Testing Matplotlib and Linear Regression )"
   ]
  },
  {
   "cell_type": "code",
   "execution_count": 200,
   "metadata": {
    "collapsed": true
   },
   "outputs": [],
   "source": [
    "file_name = \"UCI_Datasets/auto-mpg.data\"\n",
    "with open(file_name, 'rb') as data:\n",
    "    dataset_x = []\n",
    "    dataset_y = []\n",
    "    for row in data.read().split(\"\\n\"):\n",
    "        row = row.split(\"\\t\")\n",
    "        carname = row[-1]\n",
    "        row = row[0]\n",
    "        cur_data = []\n",
    "        error = False\n",
    "        for part in row.split(\" \"):\n",
    "            if(part == \"\"):continue\n",
    "            if(part[0].isalpha() or part[0] == \"?\"):\n",
    "                error = True\n",
    "                break\n",
    "            cur_data.append(float(part))\n",
    "        if(error):continue\n",
    "        dataset_x.append(cur_data)\n",
    "        dataset_y.append(carname)\n",
    "dataset_y = np.array(dataset_y[:-1])\n",
    "dataset_x = np.array(dataset_x[:-1])\n",
    "        \n",
    "#Database Test\n",
    "\n",
    "#print dataset_x[-2]\n",
    "#print dataset_y[-2]\n",
    "        "
   ]
  },
  {
   "cell_type": "markdown",
   "metadata": {},
   "source": [
    "Attribute Information:\n",
    "----\n",
    "X-Values Description\n",
    "    1. mpg:           continuous\n",
    "    2. cylinders:     multi-valued discrete\n",
    "    3. displacement:  continuous\n",
    "    4. horsepower:    continuous\n",
    "    5. weight:        continuous\n",
    "    6. acceleration:  continuous\n",
    "    7. model year:    multi-valued discrete\n",
    "    8. origin:        multi-valued discrete\n",
    "\n",
    "Y-Values Description\n",
    "\n",
    "    1. car name:      string (unique for each instance)"
   ]
  },
  {
   "cell_type": "code",
   "execution_count": 201,
   "metadata": {},
   "outputs": [
    {
     "data": {
      "image/png": "[encoded data removed]",
      "text/plain": [
       "<matplotlib.figure.Figure at 0x7fbe3fc2cf50>"
      ]
     },
     "metadata": {},
     "output_type": "display_data"
    }
   ],
   "source": [
    "# Plot of Engine Displacement vs Miles Per Gallon\n",
    "\n",
    "Displacement = dataset_x[: , 2][:300]\n",
    "Efficieny = dataset_x[: , 0][:300]\n",
    "fig = plt.figure()\n",
    "ax = fig.add_subplot(111)\n",
    "#ax.plot(x, y, color='lightblue', linewidth=3)\n",
    "ax.scatter(Displacement , Efficieny,color='b',marker='x')\n",
    "plt.show()\n",
    "\n",
    "# Increase in Engine Displacement decreases Efficiency"
   ]
  },
  {
   "cell_type": "code",
   "execution_count": 202,
   "metadata": {},
   "outputs": [
    {
     "data": {
      "image/png": "[encoded data removed]",
      "text/plain": [
       "<matplotlib.figure.Figure at 0x7fbe3c653e90>"
      ]
     },
     "metadata": {},
     "output_type": "display_data"
    }
   ],
   "source": [
    "# Plot of Weight vs Miles Per Gallon\n",
    "\n",
    "Weight = dataset_x[: , 4][:300]\n",
    "Efficieny = dataset_x[: , 0][:300]\n",
    "fig = plt.figure()\n",
    "ax = fig.add_subplot(111)\n",
    "#ax.plot(x, y, color='lightblue', linewidth=3)\n",
    "ax.scatter(Weight , Efficieny,color='b',marker='x')\n",
    "plt.show()\n",
    "\n",
    "# Efficiency Decreases with Increased Weight"
   ]
  },
  {
   "cell_type": "code",
   "execution_count": 203,
   "metadata": {},
   "outputs": [
    {
     "data": {
      "image/png": "[encoded data removed]",
      "text/plain": [
       "<matplotlib.figure.Figure at 0x7fbe3c653a10>"
      ]
     },
     "metadata": {},
     "output_type": "display_data"
    }
   ],
   "source": [
    "# Plot of Cylinder vs Miles Per Gallon\n",
    "\n",
    "Cylinders = dataset_x[: , 1]\n",
    "Efficieny = dataset_x[: , 0]\n",
    "fig = plt.figure()\n",
    "ax = fig.add_subplot(111)\n",
    "#ax.plot(x, y, color='lightblue', linewidth=3)\n",
    "ax.scatter(Cylinders , Efficieny,color='b',marker='x')\n",
    "plt.show()\n",
    "\n",
    "# Inconclusive Data"
   ]
  },
  {
   "cell_type": "code",
   "execution_count": 204,
   "metadata": {},
   "outputs": [
    {
     "data": {
      "image/png": "[encoded data removed]",
      "text/plain": [
       "<matplotlib.figure.Figure at 0x7fbe3c3b9d90>"
      ]
     },
     "metadata": {},
     "output_type": "display_data"
    }
   ],
   "source": [
    "# Plot of Horse Power vs Miles Per Gallon\n",
    "\n",
    "Displacement = dataset_x[: , 3]\n",
    "Efficieny = dataset_x[: , 0]\n",
    "fig = plt.figure()\n",
    "ax = fig.add_subplot(111)\n",
    "#ax.plot(x, y, color='lightblue', linewidth=3)\n",
    "ax.scatter(Displacement , Efficieny,color='b',marker='x')\n",
    "plt.show()\n",
    "\n",
    "# Efficienct decreases generally with increase in Horsepower"
   ]
  },
  {
   "cell_type": "code",
   "execution_count": 205,
   "metadata": {},
   "outputs": [
    {
     "data": {
      "image/png": "[encoded data removed]",
      "text/plain": [
       "<matplotlib.figure.Figure at 0x7fbe3c2a0910>"
      ]
     },
     "metadata": {},
     "output_type": "display_data"
    }
   ],
   "source": [
    "# Plot of Engine Displacement vs HorsePower\n",
    "\n",
    "Displacement = dataset_x[: , 3][:300]\n",
    "Horsepower = dataset_x[: , 2][:300]\n",
    "fig = plt.figure()\n",
    "ax = fig.add_subplot(111)\n",
    "#ax.plot(x, y, color='lightblue', linewidth=3)\n",
    "ax.scatter(Displacement , Horsepower,color='b',marker='x')\n",
    "plt.show()\n",
    "\n",
    "# Engine Displacement almost linearly increases with Horsepower"
   ]
  },
  {
   "cell_type": "code",
   "execution_count": 206,
   "metadata": {},
   "outputs": [
    {
     "data": {
      "image/png": "[encoded data removed]",
      "text/plain": [
       "<matplotlib.figure.Figure at 0x7fbe3c2bac50>"
      ]
     },
     "metadata": {},
     "output_type": "display_data"
    }
   ],
   "source": [
    "# Plot of Acceleration vs Miles Per Gallon\n",
    "\n",
    "Acceleration = dataset_x[: , 5][:300]\n",
    "Efficiency = dataset_x[: , 0][:300]\n",
    "fig = plt.figure()\n",
    "ax = fig.add_subplot(111)\n",
    "#ax.plot(x, y, color='lightblue', linewidth=3)\n",
    "ax.scatter(Acceleration , Efficiency,color='b',marker='x')\n",
    "plt.show()\n",
    "\n",
    "# Not A Valid RelationShip Directly"
   ]
  },
  {
   "cell_type": "markdown",
   "metadata": {},
   "source": [
    "Conclusion\n",
    "----"
   ]
  },
  {
   "cell_type": "markdown",
   "metadata": {},
   "source": [
    "Using Weight , Engine Displacement , Horse Power and No Of Cylinders to Estimate The Milege ( Miles in one Gallon )"
   ]
  },
  {
   "cell_type": "markdown",
   "metadata": {},
   "source": [
    "Implementation\n",
    "---"
   ]
  },
  {
   "cell_type": "markdown",
   "metadata": {},
   "source": [
    "Using Linear Regression in TensorFlow to Create a model with the provided data"
   ]
  },
  {
   "cell_type": "code",
   "execution_count": null,
   "metadata": {
    "collapsed": true
   },
   "outputs": [],
   "source": [
    "# Initialisation\n",
    "data_x = dataset_x[: , (2,3,4)][:300]\n",
    "num_data = len(data_x)\n",
    "data_y = dataset_x[: , (0)][:300]\n",
    "tf.set_random_seed(777)  # for reproducibility\n"
   ]
  },
  {
   "cell_type": "code",
   "execution_count": null,
   "metadata": {
    "collapsed": true
   },
   "outputs": [],
   "source": [
    "# Tensorflow Code\n",
    "\n",
    "\n",
    "X = tf.placeholder(tf.float32 , shape=[None,3])\n",
    "Y = tf.placeholder(tf.float32 , shape=[None])\n",
    "\n",
    "W = tf.Variable(tf.random_normal([3, 1]), name='weight')\n",
    "b = tf.Variable(tf.random_normal([1]), name='bias')\n",
    "\n",
    "model = tf.matmul(X, W) + b\n",
    "\n",
    "cost = tf.reduce_mean(tf.square(model - Y)) \n",
    "\n",
    "optimizer = tf.train.GradientDescentOptimizer(learning_rate=1e-8)\n",
    "train = optimizer.minimize(cost)\n"
   ]
  },
  {
   "cell_type": "code",
   "execution_count": null,
   "metadata": {
    "collapsed": true
   },
   "outputs": [],
   "source": [
    "# Executing Code\n",
    "\n",
    "sess = tf.Session()\n",
    "sess.run(tf.global_variables_initializer())\n",
    "for i in range(5001):\n",
    "    c , _  = sess.run([cost, train] , feed_dict = {X : data_x , Y : data_y} )\n",
    "    if(i % 1000  == 0):print c"
   ]
  },
  {
   "cell_type": "code",
   "execution_count": null,
   "metadata": {
    "collapsed": true
   },
   "outputs": [],
   "source": [
    "# Testing Code\n",
    "print sess.run(model , feed_dict={X : [[120.0,79.0,2625.0]] })\n",
    "\n",
    "print sess.run(model , feed_dict={X : [[119.,82.0,2720.0]] })\n",
    "sess.close()"
   ]
  },
  {
   "cell_type": "markdown",
   "metadata": {},
   "source": [
    "# Results and Accuracy\n",
    "The model Dosent work perfectly in a Linear Regression\n",
    "\n",
    "Trying out polynomial regression to fit the curve perfectly"
   ]
  },
  {
   "cell_type": "code",
   "execution_count": 244,
   "metadata": {},
   "outputs": [],
   "source": [
    "# Initialisation\n",
    "data_x = dataset_x[: , (2,3,4)]\n",
    "num_data = len(data_x)\n",
    "data_y = dataset_x[: , 0]\n",
    "tf.set_random_seed(777)  # for reproducibility\n",
    "\n",
    "\n",
    "X = tf.placeholder(tf.float64 , shape=[None,3])\n",
    "Y = tf.placeholder(tf.float64 , shape=[None])\n",
    "\n",
    "B = tf.Variable(dtype=tf.float64 ,initial_value = tf.zeros([1] , dtype=tf.float64), name='bias')\n",
    "W1 = tf.Variable(tf.random_normal([3,1] ,dtype=tf.float64 ),dtype=tf.float64, name='weight_1')\n",
    "W2 = tf.Variable(tf.random_normal([3,1] , dtype=tf.float64),dtype=tf.float64, name='weight_2')\n",
    "W3 = tf.Variable(tf.random_normal([3,1] , dtype=tf.float64),dtype=tf.float64, name='weight_3')\n",
    "\n",
    "model = tf.matmul( tf.pow(X , 3) , W3 ) +\\\n",
    "        tf.matmul( tf.pow(X , 2) , W2 ) + tf.matmul(X , W1) + B \n",
    "    \n",
    "cost = tf.reduce_sum( tf.abs( model - Y )) / num_data\n",
    "\n",
    "learning_rate = 1e-14\n",
    "\n",
    "optimizer = tf.train.GradientDescentOptimizer(learning_rate).minimize(cost)"
   ]
  },
  {
   "cell_type": "code",
   "execution_count": 246,
   "metadata": {},
   "outputs": [
    {
     "name": "stdout",
     "output_type": "stream",
     "text": [
      "5.37685946995e+12\n",
      "1.37515718251e+12\n",
      "1.37515718251e+12\n",
      "1.37515718251e+12\n",
      "1.37515718251e+12\n",
      "1.37515718251e+12\n",
      "1.37515718251e+12\n",
      "1.37515718251e+12\n",
      "1.37515718251e+12\n",
      "1.37515718251e+12\n",
      "1.37515718251e+12\n"
     ]
    }
   ],
   "source": [
    "sess = tf.Session()\n",
    "sess.run(tf.global_variables_initializer())\n",
    "for i in range(10001):\n",
    "    c , _  = sess.run([cost, optimizer] , feed_dict = { X : data_x , Y : data_y} )\n",
    "    if(np.isnan(c) ):print \"Broken Down at {}\".format(i) ; break\n",
    "    if(i % 1000 == 0):print c\n"
   ]
  },
  {
   "cell_type": "code",
   "execution_count": 172,
   "metadata": {},
   "outputs": [
    {
     "name": "stdout",
     "output_type": "stream",
     "text": [
      "[[  1.15625959e-09]\n",
      " [  2.12976992e-09]\n",
      " [  6.96424203e-08]]\n",
      "[[ 12.75132119]]\n",
      "[[ 13.69271927]]\n"
     ]
    }
   ],
   "source": [
    "print sess.run(W1)\n",
    "\n",
    "print sess.run(model , feed_dict={X : [[120.0,79.0,2625.0]] })\n",
    "\n",
    "print sess.run(model , feed_dict={X : [[119.,82.0,2720.0]] })\n"
   ]
  },
  {
   "cell_type": "code",
   "execution_count": 162,
   "metadata": {
    "collapsed": true
   },
   "outputs": [],
   "source": [
    "sess.close()"
   ]
  },
  {
   "cell_type": "code",
   "execution_count": null,
   "metadata": {
    "collapsed": true
   },
   "outputs": [],
   "source": []
  }
 ],
 "metadata": {
  "kernelspec": {
   "display_name": "Python 2",
   "language": "python",
   "name": "python2"
  },
  "language_info": {
   "codemirror_mode": {
    "name": "ipython",
    "version": 2
   },
   "file_extension": ".py",
   "mimetype": "text/x-python",
   "name": "python",
   "nbconvert_exporter": "python",
   "pygments_lexer": "ipython2",
   "version": "2.7.12"
  }
 },
 "nbformat": 4,
 "nbformat_minor": 2
}
