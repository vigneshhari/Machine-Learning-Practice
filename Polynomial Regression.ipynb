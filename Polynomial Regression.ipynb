{
 "cells": [
  {
   "cell_type": "markdown",
   "metadata": {},
   "source": [
    "# Polinomial Regression\n",
    "Trying to imitate a Polynomial Funtion with the help of Tensorflow and Its Gradient Descent Optimiser"
   ]
  },
  {
   "cell_type": "code",
   "execution_count": 1,
   "metadata": {
    "collapsed": true
   },
   "outputs": [],
   "source": [
    "import matplotlib.pyplot as plt\n",
    "import numpy as np \n",
    "import tensorflow as tf\n",
    "%matplotlib inline\n"
   ]
  },
  {
   "cell_type": "markdown",
   "metadata": {},
   "source": [
    "Creating a Polynomial Function\n",
    "---"
   ]
  },
  {
   "cell_type": "code",
   "execution_count": 2,
   "metadata": {
    "collapsed": true
   },
   "outputs": [],
   "source": [
    "# We will try to learn this Function\n",
    "\n",
    "def polynomialfunc(val):\n",
    "    return (np.power(val,2) * 7) + (np.power(val,3)*6) + (np.power(val,4) * - 9 ) + 5.789"
   ]
  },
  {
   "cell_type": "code",
   "execution_count": 3,
   "metadata": {},
   "outputs": [
    {
     "name": "stderr",
     "output_type": "stream",
     "text": [
      "/usr/local/lib/python2.7/dist-packages/matplotlib/figure.py:397: UserWarning: matplotlib is currently using a non-GUI backend, so cannot show the figure\n",
      "  \"matplotlib is currently using a non-GUI backend, \"\n"
     ]
    },
    {
     "data": {
      "image/png": "[encoded data removed]",
      "text/plain": [
       "<matplotlib.figure.Figure at 0x7f795b675d90>"
      ]
     },
     "metadata": {},
     "output_type": "display_data"
    }
   ],
   "source": [
    "# Creating Sample Data of the given function\n",
    "\n",
    "fig, ax = plt.subplots(1, 1)\n",
    "xs = np.linspace(-3,3, 200)\n",
    "ys = polynomialfunc(xs) + np.random.uniform(-0.5, 0.5, 200)\n",
    "ax.scatter(xs, ys)\n",
    "fig.show()\n",
    "plt.show"
   ]
  },
  {
   "cell_type": "markdown",
   "metadata": {},
   "source": [
    "Sampling Data\n",
    "---\n"
   ]
  },
  {
   "cell_type": "markdown",
   "metadata": {},
   "source": [
    "Creating the Model\n",
    "---"
   ]
  },
  {
   "cell_type": "code",
   "execution_count": 4,
   "metadata": {
    "collapsed": true
   },
   "outputs": [],
   "source": [
    "X = tf.placeholder(tf.float32 , shape=[None])\n",
    "Y = tf.placeholder(tf.float32 , shape=[None])\n",
    "\n",
    "W0 = tf.Variable( tf.random_normal([1]) ,dtype= tf.float32 , name=\"bias\"  )\n",
    "W1 = tf.Variable( tf.random_normal([1]) ,dtype= tf.float32 ,name=\"weight1\" )\n",
    "W2 = tf.Variable( tf.random_normal([1]) ,dtype= tf.float32 , name = \"weight2\" )\n",
    "W3 = tf.Variable( tf.random_normal([1]),dtype= tf.float32 , name = \"weight3\" )\n",
    "W4 = tf.Variable( tf.random_normal([1]),dtype= tf.float32 , name = \"weight4\" )\n",
    "\n",
    "# Degree 2 \n",
    "#model = tf.add(tf.add(W0 , (W1 * X)) , ( tf.pow(X,2) * W2 ))\n",
    "\n",
    "# Degree 3 \n",
    "#model = tf.add(tf.add(tf.add(W0 , (W1 * X)) , ( tf.pow(X,2) * W2 )) ,( tf.pow(X,3) * W3 ))\n",
    "\n",
    "# Degree 4\n",
    "model = tf.add(tf.add(tf.add(tf.add(W0 , (W1 * X)) , ( tf.pow(X,2) * W2 )) ,( tf.pow(X,3) * W3 )) , (tf.pow(X,4) * W4))\n",
    "\n",
    "\n",
    "cost = tf.reduce_mean(tf.squared_difference(model , Y))\n",
    "\n",
    "learning_rate = 0.001\n",
    "\n",
    "optimizer = tf.train.GradientDescentOptimizer(learning_rate).minimize(cost)\n"
   ]
  },
  {
   "cell_type": "markdown",
   "metadata": {},
   "source": [
    "Teaching the Model\n",
    "---"
   ]
  },
  {
   "cell_type": "code",
   "execution_count": 5,
   "metadata": {},
   "outputs": [
    {
     "name": "stdout",
     "output_type": "stream",
     "text": [
      "40803.9\n",
      "91.3569\n",
      "45.7527\n",
      "23.0171\n",
      "11.6685\n",
      "5.99225\n",
      "3.14353\n",
      "1.70596\n",
      "0.974014\n",
      "0.596006\n",
      "0.396466\n"
     ]
    }
   ],
   "source": [
    "sess = tf.Session()\n",
    "sess.run(tf.global_variables_initializer())\n",
    "for i in range(1001):\n",
    "    c , _ = sess.run([cost, optimizer] , feed_dict={X: xs , Y : ys })\n",
    "    if(i%100 == 0):print c"
   ]
  },
  {
   "cell_type": "markdown",
   "metadata": {},
   "source": [
    "Testing The Model\n",
    "---"
   ]
  },
  {
   "cell_type": "code",
   "execution_count": 12,
   "metadata": {},
   "outputs": [
    {
     "name": "stdout",
     "output_type": "stream",
     "text": [
      "0.048351\n"
     ]
    },
    {
     "data": {
      "image/png": "[encoded data removed]",
      "text/plain": [
       "<matplotlib.figure.Figure at 0x7f7955113510>"
      ]
     },
     "metadata": {},
     "output_type": "display_data"
    }
   ],
   "source": [
    "validate = np.linspace(0,1,1000)\n",
    "fig, (ax1, ax2) = plt.subplots(nrows=1, ncols=2,figsize=(10,5))\n",
    "ax1.set_title(\"$Expected$\")\n",
    "ax2.set_title(\"$Predicted$\")\n",
    "ax1.set_xlabel(\"$x$\")\n",
    "ax2.set_xlabel(\"$x$\")\n",
    "ax1.set_ylabel(\"$y$\")\n",
    "ax2.set_ylabel(\"$y$\")\n",
    "ax2.scatter(validate, sess.run(model , feed_dict={X: validate}) )\n",
    "ax1.scatter(validate , polynomialfunc(validate))\n",
    "fig.show()\n",
    "print sess.run(cost , feed_dict = {X: validate , Y : polynomialfunc(validate)})"
   ]
  },
  {
   "cell_type": "markdown",
   "metadata": {},
   "source": [
    "Conclusion\n",
    "--"
   ]
  },
  {
   "cell_type": "markdown",
   "metadata": {},
   "source": [
    "Currently we have $4$ weights one for each power of the input data , where the power to 0 acts as the $bias$ <br>\n",
    "The formula for the model given as $ (X^4 * W_4) + (X^3 * W_3) + (X^2 * W_2) + (X * W_1) + b  $\n"
   ]
  },
  {
   "cell_type": "markdown",
   "metadata": {},
   "source": [
    "The Implementation is quite accurate , Further testing will follow in the upcomming notebooks"
   ]
  }
 ],
 "metadata": {
  "kernelspec": {
   "display_name": "Python 2",
   "language": "python",
   "name": "python2"
  },
  "language_info": {
   "codemirror_mode": {
    "name": "ipython",
    "version": 2
   },
   "file_extension": ".py",
   "mimetype": "text/x-python",
   "name": "python",
   "nbconvert_exporter": "python",
   "pygments_lexer": "ipython2",
   "version": "2.7.12"
  }
 },
 "nbformat": 4,
 "nbformat_minor": 2
}
