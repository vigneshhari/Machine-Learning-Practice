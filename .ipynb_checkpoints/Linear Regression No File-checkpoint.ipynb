{
 "cells": [
  {
   "cell_type": "markdown",
   "metadata": {},
   "source": [
    "Learning Linear Regression with Tensorflow\n",
    "======================\n",
    "with Each step explained in detail\n"
   ]
  },
  {
   "cell_type": "code",
   "execution_count": 59,
   "metadata": {
    "collapsed": true
   },
   "outputs": [],
   "source": [
    "import tensorflow as tf\n",
    "import numpy as np\n",
    "tf.set_random_seed(777)"
   ]
  },
  {
   "cell_type": "markdown",
   "metadata": {},
   "source": [
    "Random Seed is used to reproduce same random values for debugging and testing "
   ]
  },
  {
   "cell_type": "code",
   "execution_count": 60,
   "metadata": {
    "collapsed": true
   },
   "outputs": [],
   "source": [
    "x_data = [[73., 80., 75.],\n",
    "          [93., 88., 93.],\n",
    "          [89., 91., 90.],\n",
    "          [96., 98., 100.],\n",
    "          [73., 66., 70.]]\n",
    "y_data = [[152.],\n",
    "          [185.],\n",
    "          [180.],\n",
    "          [196.],\n",
    "          [142.]]"
   ]
  },
  {
   "cell_type": "code",
   "execution_count": 61,
   "metadata": {
    "collapsed": true
   },
   "outputs": [],
   "source": [
    "\n",
    "#X = tf.placeholder(tf.float32 , shape = [None , 3])\n",
    "#Y = tf.placeholder(tf.float32 , shape = [None , 1] )\n",
    "\n",
    "X = tf.constant(x_data,tf.float32)\n",
    "Y = tf.constant(y_data ,tf.float32)\n",
    "\n",
    "W = tf.Variable(tf.random_normal([3, 1]), name='weight')\n",
    "b = tf.Variable(tf.random_normal([1]), name='bias')"
   ]
  },
  {
   "cell_type": "code",
   "execution_count": 62,
   "metadata": {
    "collapsed": true
   },
   "outputs": [],
   "source": [
    "hypothesis = tf.matmul(X, W) + b"
   ]
  },
  {
   "cell_type": "code",
   "execution_count": 72,
   "metadata": {
    "collapsed": true
   },
   "outputs": [],
   "source": [
    "cost = tf.reduce_mean(tf.pow(hypothesis - Y , 2) ) "
   ]
  },
  {
   "cell_type": "code",
   "execution_count": 78,
   "metadata": {
    "collapsed": true
   },
   "outputs": [],
   "source": [
    "# Minimize\n",
    "optimizer = tf.train.GradientDescentOptimizer(learning_rate=3e-5)\n",
    "train = optimizer.minimize(cost)"
   ]
  },
  {
   "cell_type": "code",
   "execution_count": 79,
   "metadata": {},
   "outputs": [
    {
     "name": "stdout",
     "output_type": "stream",
     "text": [
      "0 Cost:  47.6843\n",
      "100 Cost:  8.79597\n",
      "200 Cost:  7.52317\n",
      "300 Cost:  6.44102\n",
      "400 Cost:  5.52096\n",
      "500 Cost:  4.73864\n",
      "600 Cost:  4.07342\n",
      "700 Cost:  3.50769\n",
      "800 Cost:  3.02655\n",
      "900 Cost:  2.61727\n",
      "1000 Cost:  2.26912\n",
      "1100 Cost:  1.97291\n",
      "1200 Cost:  1.72082\n",
      "1300 Cost:  1.50626\n",
      "1400 Cost:  1.32359\n",
      "1500 Cost:  1.16804\n",
      "1600 Cost:  1.03554\n",
      "1700 Cost:  0.922632\n",
      "1800 Cost:  0.826368\n",
      "1900 Cost:  0.744274\n",
      "2000 Cost:  0.674208\n",
      "0.674208\n"
     ]
    }
   ],
   "source": [
    "sess = tf.Session()\n",
    "sess.run(tf.global_variables_initializer())\n",
    "\n",
    "for step in range(2001):\n",
    "    cost_val, hy_val, _ = sess.run([cost, hypothesis, train], \n",
    "                                   #feed_dict={X: x_data, Y: y_data}\n",
    "                                  )\n",
    "    if step % 100 == 0:\n",
    "        print(step, \"Cost: \", cost_val)\n",
    "print(cost_val)"
   ]
  },
  {
   "cell_type": "code",
   "execution_count": null,
   "metadata": {
    "collapsed": true
   },
   "outputs": [],
   "source": []
  },
  {
   "cell_type": "code",
   "execution_count": null,
   "metadata": {
    "collapsed": true
   },
   "outputs": [],
   "source": []
  }
 ],
 "metadata": {
  "kernelspec": {
   "display_name": "Python 3",
   "language": "python",
   "name": "python3"
  },
  "language_info": {
   "codemirror_mode": {
    "name": "ipython",
    "version": 3
   },
   "file_extension": ".py",
   "mimetype": "text/x-python",
   "name": "python",
   "nbconvert_exporter": "python",
   "pygments_lexer": "ipython3",
   "version": "3.5.2"
  }
 },
 "nbformat": 4,
 "nbformat_minor": 2
}
